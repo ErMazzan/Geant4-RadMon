{
 "cells": [
  {
   "cell_type": "code",
   "execution_count": 1,
   "id": "7b35bed1",
   "metadata": {},
   "outputs": [],
   "source": [
    "import numpy as np\n",
    "import matplotlib.pyplot as plt\n",
    "from scipy.stats import norm\n",
    "from scipy.optimize import curve_fit"
   ]
  },
  {
   "cell_type": "code",
   "execution_count": 2,
   "id": "7462503d",
   "metadata": {},
   "outputs": [],
   "source": [
    "def read_file(filename, column):\n",
    "    with open(filename, 'r') as data:\n",
    "        x = []\n",
    "        for line in data:\n",
    "            p = line.split(\";\")\n",
    "            x.append(float(p[column]))\n",
    "    return x"
   ]
  },
  {
   "cell_type": "code",
   "execution_count": 3,
   "id": "0e35472a",
   "metadata": {},
   "outputs": [],
   "source": [
    "def gauss(x, mu, sigma, C):\n",
    "    return C*np.exp(-(x - mu)**2/(2*sigma**2))"
   ]
  },
  {
   "cell_type": "code",
   "execution_count": 4,
   "id": "b84dce1e",
   "metadata": {},
   "outputs": [
    {
     "name": "stdout",
     "output_type": "stream",
     "text": [
      "Energy: 1  Mean: 1.85372343937329\n",
      "Energy: 2  Mean: 1.404858342853913\n",
      "Energy: 3  Mean: 1.028424135537451\n",
      "Energy: 4  Mean: 0.8780031032711757\n",
      "Energy: 5  Mean: 0.7801319167060928\n",
      "Energy: 6  Mean: 0.6847120262164125\n"
     ]
    }
   ],
   "source": [
    "energy_names = [\"100-MeV\",\"200-MeV\",\"300-MeV\",\"500-MeV\",\"700-MeV\",\"1-GeV\",\"2-GeV\"]\n",
    "\n",
    "energies = []\n",
    "values = []\n",
    "\n",
    "for name in energy_names:\n",
    "    filename = \"EScint1/{}.txt\".format(name)\n",
    "    energy = read_file(filename, 0)\n",
    "    counts = read_file(filename, 1)\n",
    "    \n",
    "    energies.append(energy)\n",
    "    values.append(counts)\n",
    "    \n",
    "means_scin_1 = []\n",
    "for i in range(len(energies)):\n",
    "    energy_fit = []\n",
    "    values_fit = []\n",
    "    \n",
    "    j = 0\n",
    "    if sum(values[i]) >= 10000:\n",
    "        for count in values[i]:\n",
    "            energy_fit.append(energies[i][j])\n",
    "            values_fit.append(values[i][j])\n",
    "            j += 1\n",
    "\n",
    "        popt, pcov = curve_fit(gauss, energy_fit, values_fit)\n",
    "        means_scin_1.append(popt[0])\n",
    "        print(\"Energy:\",i, \" Mean:\", popt[0])"
   ]
  },
  {
   "cell_type": "code",
   "execution_count": 5,
   "id": "2b747893",
   "metadata": {},
   "outputs": [
    {
     "name": "stdout",
     "output_type": "stream",
     "text": [
      "Energy: 1  Mean: 2.0640614731227944\n",
      "Energy: 2  Mean: 1.4664398093205122\n",
      "Energy: 3  Mean: 1.045084972178519\n",
      "Energy: 4  Mean: 0.8901501580151626\n",
      "Energy: 5  Mean: 0.783923910155398\n",
      "Energy: 6  Mean: 0.6832003058546003\n"
     ]
    }
   ],
   "source": [
    "energy_names = [\"100-MeV\",\"200-MeV\",\"300-MeV\",\"500-MeV\",\"700-MeV\",\"1-GeV\",\"2-GeV\"]\n",
    "\n",
    "energies = []\n",
    "values = []\n",
    "\n",
    "for name in energy_names:\n",
    "    filename = \"EScint2/{}.txt\".format(name)\n",
    "    energy = read_file(filename, 0)\n",
    "    counts = read_file(filename, 1)\n",
    "    \n",
    "    energies.append(energy)\n",
    "    values.append(counts)\n",
    "    \n",
    "means_scin_2 = []\n",
    "for i in range(len(energies)):\n",
    "    energy_fit = []\n",
    "    values_fit = []\n",
    "    \n",
    "    j = 0\n",
    "    if sum(values[i]) >= 10000:\n",
    "        for count in values[i]:\n",
    "            energy_fit.append(energies[i][j])\n",
    "            values_fit.append(values[i][j])\n",
    "            j += 1\n",
    "\n",
    "        popt, pcov = curve_fit(gauss, energy_fit, values_fit)\n",
    "        means_scin_2.append(popt[0])\n",
    "        print(\"Energy:\",i, \" Mean:\", popt[0])"
   ]
  },
  {
   "cell_type": "code",
   "execution_count": 6,
   "id": "06d0b618",
   "metadata": {},
   "outputs": [
    {
     "name": "stdout",
     "output_type": "stream",
     "text": [
      "Energy: 1  Mean: 2.2084809343453022\n",
      "Energy: 2  Mean: 1.5433171534630608\n",
      "Energy: 3  Mean: 1.0562412486338282\n",
      "Energy: 4  Mean: 0.8935037410049639\n",
      "Energy: 5  Mean: 0.7850393481763386\n",
      "Energy: 6  Mean: 0.6885557961800557\n"
     ]
    }
   ],
   "source": [
    "energy_names = [\"100-MeV\",\"200-MeV\",\"300-MeV\",\"500-MeV\",\"700-MeV\",\"1-GeV\",\"2-GeV\"]\n",
    "\n",
    "energies = []\n",
    "values = []\n",
    "\n",
    "for name in energy_names:\n",
    "    filename = \"EScint3/{}.txt\".format(name)\n",
    "    energy = read_file(filename, 0)\n",
    "    counts = read_file(filename, 1)\n",
    "    \n",
    "    energies.append(energy)\n",
    "    values.append(counts)\n",
    "    \n",
    "means_scin_3 = []\n",
    "for i in range(len(energies)):\n",
    "    energy_fit = []\n",
    "    values_fit = []\n",
    "    \n",
    "    j = 0\n",
    "    if sum(values[i]) >= 10000:\n",
    "        for count in values[i]:\n",
    "            energy_fit.append(energies[i][j])\n",
    "            values_fit.append(values[i][j])\n",
    "            j += 1\n",
    "\n",
    "        popt, pcov = curve_fit(gauss, energy_fit, values_fit)\n",
    "        means_scin_3.append(popt[0])\n",
    "        print(\"Energy:\",i, \" Mean:\", popt[0])"
   ]
  },
  {
   "cell_type": "code",
   "execution_count": 7,
   "id": "f0b9058b",
   "metadata": {},
   "outputs": [
    {
     "name": "stdout",
     "output_type": "stream",
     "text": [
      "Energy: 1  Mean: 1.870914600345098\n",
      "Energy: 2  Mean: 1.3958070445268522\n",
      "Energy: 3  Mean: 1.0256453710002724\n",
      "Energy: 4  Mean: 0.8783998741022697\n",
      "Energy: 5  Mean: 0.7766368314488257\n",
      "Energy: 6  Mean: 0.6696804520693591\n"
     ]
    }
   ],
   "source": [
    "energy_names = [\"100-MeV\",\"200-MeV\",\"300-MeV\",\"500-MeV\",\"700-MeV\",\"1-GeV\",\"2-GeV\"]\n",
    "\n",
    "energies = []\n",
    "values = []\n",
    "\n",
    "for name in energy_names:\n",
    "    filename = \"EScint4/{}.txt\".format(name)\n",
    "    energy = read_file(filename, 0)\n",
    "    counts = read_file(filename, 1)\n",
    "    \n",
    "    energies.append(energy)\n",
    "    values.append(counts)\n",
    "    \n",
    "means_scin_4 = []\n",
    "for i in range(len(energies)):\n",
    "    energy_fit = []\n",
    "    values_fit = []\n",
    "    \n",
    "    j = 0\n",
    "    if sum(values[i]) >= 10000:\n",
    "        for count in values[i]:\n",
    "            energy_fit.append(energies[i][j])\n",
    "            values_fit.append(values[i][j])\n",
    "            j += 1\n",
    "\n",
    "        popt, pcov = curve_fit(gauss, energy_fit, values_fit)\n",
    "        means_scin_4.append(popt[0])\n",
    "        print(\"Energy:\",i, \" Mean:\", popt[0])"
   ]
  },
  {
   "cell_type": "code",
   "execution_count": 10,
   "id": "b01e2b54",
   "metadata": {},
   "outputs": [
    {
     "data": {
      "image/png": "[encoded data removed]",
      "text/plain": [
       "<Figure size 612x468 with 1 Axes>"
      ]
     },
     "metadata": {
      "needs_background": "light"
     },
     "output_type": "display_data"
    }
   ],
   "source": [
    "energies_scin_1 = [200, 300, 500, 700, 1000, 2000]\n",
    "energies_scin_2 = [200, 300, 500, 700, 1000, 2000]\n",
    "energies_scin_3 = [200, 300, 500, 700, 1000, 2000]\n",
    "energies_scin_4 = [200, 300, 500, 700, 1000, 2000]\n",
    "\n",
    "fig, ax1 = plt.subplots(1, 1)\n",
    "ax1.plot(energies_scin_1, means_scin_1, '--go', label = \"Scintillator 1\")\n",
    "ax1.plot(energies_scin_2, means_scin_2, '--bo', label = \"Scintillator 2\")\n",
    "ax1.plot(energies_scin_3, means_scin_3, '--ro', label = \"Scintillator 3\")\n",
    "ax1.plot(energies_scin_4, means_scin_4, '--yo', label = \"Scintillator 4\")\n",
    "ax1.set_xlabel(\"Proton energy (MeV)\", fontsize = 14.0)\n",
    "ax1.set_ylabel(\"Mean energy deposited (MeV)\", fontsize = 14.0)\n",
    "ax1.set_title(\"Sphere\", fontsize = 18)\n",
    "ax1.legend(loc=\"upper right\", prop={'size': 14})\n",
    "plt.rc('ytick', labelsize=14)\n",
    "plt.rc('xtick', labelsize=14)\n",
    "\n",
    "fig.tight_layout()\n",
    "fig.set_size_inches(8.5, 6.5)"
   ]
  },
  {
   "cell_type": "code",
   "execution_count": null,
   "id": "1e698361",
   "metadata": {},
   "outputs": [],
   "source": []
  }
 ],
 "metadata": {
  "kernelspec": {
   "display_name": "Python 3 (ipykernel)",
   "language": "python",
   "name": "python3"
  },
  "language_info": {
   "codemirror_mode": {
    "name": "ipython",
    "version": 3
   },
   "file_extension": ".py",
   "mimetype": "text/x-python",
   "name": "python",
   "nbconvert_exporter": "python",
   "pygments_lexer": "ipython3",
   "version": "3.9.12"
  }
 },
 "nbformat": 4,
 "nbformat_minor": 5
}
